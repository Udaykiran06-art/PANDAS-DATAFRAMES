{
  "nbformat": 4,
  "nbformat_minor": 0,
  "metadata": {
    "colab": {
      "provenance": [],
      "authorship_tag": "ABX9TyN9J7Fk3mmNZlWUNPKi9k/y",
      "include_colab_link": true
    },
    "kernelspec": {
      "name": "python3",
      "display_name": "Python 3"
    },
    "language_info": {
      "name": "python"
    }
  },
  "cells": [
    {
      "cell_type": "markdown",
      "metadata": {
        "id": "view-in-github",
        "colab_type": "text"
      },
      "source": [
        "<a href=\"https://colab.research.google.com/github/Udaykiran06-art/PANDAS-DATAFRAMES/blob/main/DataFrame_Introduction.ipynb\" target=\"_parent\"><img src=\"https://colab.research.google.com/assets/colab-badge.svg\" alt=\"Open In Colab\"/></a>"
      ]
    },
    {
      "cell_type": "code",
      "execution_count": null,
      "metadata": {
        "colab": {
          "base_uri": "https://localhost:8080/"
        },
        "id": "FKg2nUZXW1ug",
        "outputId": "e36423a7-e11d-4d8f-f68a-c9b090ee8b6b"
      },
      "outputs": [
        {
          "output_type": "stream",
          "name": "stdout",
          "text": [
            "Empty DataFrame\n",
            "Columns: []\n",
            "Index: []\n"
          ]
        }
      ],
      "source": [
        "#Creating a empty Dataframe\n",
        "\n",
        "import pandas as pd\n",
        "\n",
        "df = pd.DataFrame()\n",
        "\n",
        "print(df)"
      ]
    },
    {
      "cell_type": "code",
      "source": [
        "#Creating Dataframe by using single list\n",
        "import pandas as pd\n",
        "\n",
        "data = [1,2,3,4,5]\n",
        "\n",
        "df = pd.DataFrame(data)\n",
        "\n",
        "print(df)"
      ],
      "metadata": {
        "colab": {
          "base_uri": "https://localhost:8080/"
        },
        "id": "L4e5wuGtx3S-",
        "outputId": "f8c507bd-aab5-4c95-b143-f893553a10f5"
      },
      "execution_count": null,
      "outputs": [
        {
          "output_type": "stream",
          "name": "stdout",
          "text": [
            "   0\n",
            "0  1\n",
            "1  2\n",
            "2  3\n",
            "3  4\n",
            "4  5\n"
          ]
        }
      ]
    },
    {
      "cell_type": "code",
      "source": [
        "#Create a DataFrame using list of lists(nested list)\n",
        "import pandas as pd\n",
        "\n",
        "data = [[1,'Uday',28],\n",
        "        [2,'Deepu',15],\n",
        "        [3,'Mohit',16]]\n",
        "\n",
        "df = pd.DataFrame(data,columns=['ID','Name','Age'])\n",
        "print(df)\n"
      ],
      "metadata": {
        "colab": {
          "base_uri": "https://localhost:8080/"
        },
        "id": "MbKU6-VdyPQX",
        "outputId": "a620b886-cdba-4353-93b5-9b455e5ad977"
      },
      "execution_count": null,
      "outputs": [
        {
          "output_type": "stream",
          "name": "stdout",
          "text": [
            "   ID   Name  Age\n",
            "0   1   Uday   28\n",
            "1   2  Deepu   15\n",
            "2   3  Mohit   16\n"
          ]
        }
      ]
    },
    {
      "cell_type": "code",
      "source": [
        "#Create  a DataFrame with multiple\n",
        "import pandas as pd\n",
        "data = {\n",
        "    'Name':['Revanth', 'Sashank', 'Vidya'],\n",
        "    'Age':[16, 13, 27],\n",
        "    'City':['Srikakulam', 'Rajam', 'Hyderbad']\n",
        "}\n",
        "df = pd.DataFrame(data)\n",
        "print(df)"
      ],
      "metadata": {
        "colab": {
          "base_uri": "https://localhost:8080/"
        },
        "id": "jOo_TH_QzVNM",
        "outputId": "e381be29-810e-4a87-97c3-f6b996db78f8"
      },
      "execution_count": null,
      "outputs": [
        {
          "output_type": "stream",
          "name": "stdout",
          "text": [
            "      Name  Age        City\n",
            "0  Revanth   16  Srikakulam\n",
            "1  Sashank   13       Rajam\n",
            "2    Vidya   27    Hyderbad\n"
          ]
        }
      ]
    }
  ]
}